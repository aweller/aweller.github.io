{
 "cells": [
  {
   "cell_type": "code",
   "execution_count": 56,
   "metadata": {
    "collapsed": true
   },
   "outputs": [],
   "source": [
    "import pandas as pd\n",
    "import json"
   ]
  },
  {
   "cell_type": "code",
   "execution_count": 59,
   "metadata": {
    "collapsed": false
   },
   "outputs": [
    {
     "data": {
      "text/plain": [
       "u'/home/aweller/bioinfo/private/cv_website/app/data'"
      ]
     },
     "execution_count": 59,
     "metadata": {},
     "output_type": "execute_result"
    }
   ],
   "source": [
    "pwd"
   ]
  },
  {
   "cell_type": "code",
   "execution_count": 13,
   "metadata": {
    "collapsed": true
   },
   "outputs": [],
   "source": [
    "df = pd.read_csv('cv.csv', delimiter=',')\n",
    "df = df.fillna(0)"
   ]
  },
  {
   "cell_type": "code",
   "execution_count": 22,
   "metadata": {
    "collapsed": false
   },
   "outputs": [],
   "source": [
    "companies = df.company.unique()\n",
    "projects = df.project.unique()\n",
    "skills = df.columns[2:]"
   ]
  },
  {
   "cell_type": "code",
   "execution_count": 53,
   "metadata": {
    "collapsed": false
   },
   "outputs": [],
   "source": [
    "all_results = {}\n",
    "for skill in skills:\n",
    "    results = {}\n",
    "    for company in companies:\n",
    "        comp_projects = df[df.company == company].project.unique()\n",
    "\n",
    "        matching_projects = [p for p in comp_projects if list(df[df.project == p][skill])[0] == 1]\n",
    "        if matching_projects:\n",
    "            results[company] = matching_projects\n",
    "    all_results[skill] = results"
   ]
  },
  {
   "cell_type": "code",
   "execution_count": 55,
   "metadata": {
    "collapsed": false
   },
   "outputs": [
    {
     "data": {
      "text/plain": [
       "{'COMPU': ['Reached out to potential clients via email and at scientific meetings',\n",
       "  'Planned next-generation sequencing projects with clients'],\n",
       " 'LIFE': ['Developed custom software for clinical sequencing QC',\n",
       "  'Developed whole-genome sequencing + analysis pipelines ',\n",
       "  'Analysed tumour-normal exome data in colorectal cancer and leukemia'],\n",
       " 'ONT': ['R+D data analysis for 3rd generation DNA sequencing technology',\n",
       "  'Python software engineering on large scientific codebase',\n",
       "  'Customer interaction at conferences'],\n",
       " 'PHD': ['Conducted independent scientific project;',\n",
       "  'Performed NGS experiments from wetlab to bioinformatics;',\n",
       "  'Presented results in front of 100+ scientists.',\n",
       "  'Analyzed data for a diverse range of collaborators from evolutionary biology to protein design.',\n",
       "  'GWAS pipelines',\n",
       "  'high-density linkage maps',\n",
       "  'improvement of the reference genome',\n",
       "  'databases of genomic features']}"
      ]
     },
     "execution_count": 55,
     "metadata": {},
     "output_type": "execute_result"
    }
   ],
   "source": [
    "all_results['Variant calling']"
   ]
  },
  {
   "cell_type": "code",
   "execution_count": 57,
   "metadata": {
    "collapsed": false
   },
   "outputs": [],
   "source": [
    "with open('cv.json', 'w') as out:\n",
    "    json.dump(all_results, out)"
   ]
  },
  {
   "cell_type": "code",
   "execution_count": null,
   "metadata": {
    "collapsed": true
   },
   "outputs": [],
   "source": []
  }
 ],
 "metadata": {
  "kernelspec": {
   "display_name": "Python 2",
   "language": "python",
   "name": "python2"
  },
  "language_info": {
   "codemirror_mode": {
    "name": "ipython",
    "version": 2
   },
   "file_extension": ".py",
   "mimetype": "text/x-python",
   "name": "python",
   "nbconvert_exporter": "python",
   "pygments_lexer": "ipython2",
   "version": "2.7.6"
  }
 },
 "nbformat": 4,
 "nbformat_minor": 0
}
